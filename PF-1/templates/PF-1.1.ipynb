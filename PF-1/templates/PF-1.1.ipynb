{
 "cells": [
  {
   "cell_type": "markdown",
   "metadata": {},
   "source": [
    "# Scala introduction"
   ]
  },
  {
   "cell_type": "markdown",
   "metadata": {},
   "source": [
    "This notebook offers a basic introduction to the object-oriented features of the Scala programming language. It consists of small code samples that aim at translating into Scala some of the Java examples of the following tutorial: \n",
    "\n",
    "https://docs.oracle.com/javase/tutorial/java/TOC.html\n",
    "\n",
    "In particular, we will talk about: \n",
    "* Classes and objects\n",
    "* Control flow structures\n",
    "* Constructors, private and static members\n",
    "* Inmutable objects\n",
    "* Interfaces and inheritance\n",
    "* Generics"
   ]
  },
  {
   "cell_type": "markdown",
   "metadata": {},
   "source": [
    "### References"
   ]
  },
  {
   "cell_type": "markdown",
   "metadata": {},
   "source": [
    "[__Programming in Scala, \n",
    "A comprehensive step-by-step guide__](https://www.artima.com/shop/programming_in_scala_3ed) Third Edition.\n",
    "by Martin Odersky, Lex Spoon, and Bill Venners. \n",
    "\n",
    "This is an introductory book that covers the basic features of the language as well as its most advanced characteristics. The following chapters are the most relevant for the purpose of this notebook:\n",
    "\n",
    "1. A Scalable Language\n",
    "2. First Steps in Scala\n",
    "3. Next Steps in Scala\n",
    "4. Classes and Objects\n",
    "5. Basic Types and Operations\n",
    "7. Built-in Control Structures 117\n",
    "9. Control Abstraction 167\n",
    "10. Composition and Inheritance 183\n",
    "11. Scala's Hierarchy 211"
   ]
  },
  {
   "cell_type": "markdown",
   "metadata": {},
   "source": [
    "__[Scala book (online)](https://docs.scala-lang.org/overviews/scala-book/introduction.html)__. A basic introduction to the basic features of Scala. Check in particular the first trail:\n",
    "\n",
    "- [_Prelude: a taste of Scala_](https://docs.scala-lang.org/overviews/scala-book/prelude-taste-of-scala.html)"
   ]
  },
  {
   "cell_type": "markdown",
   "metadata": {},
   "source": [
    "# Object-Oriented Programming Concepts\n",
    "\n",
    "https://docs.oracle.com/javase/tutorial/java/concepts/index.html"
   ]
  },
  {
   "cell_type": "markdown",
   "metadata": {},
   "source": [
    "### Classes"
   ]
  },
  {
   "cell_type": "code",
   "execution_count": 12,
   "metadata": {},
   "outputs": [
    {
     "data": {
      "text/plain": [
       "defined \u001b[32mclass\u001b[39m \u001b[36mBicycle\u001b[39m"
      ]
     },
     "execution_count": 12,
     "metadata": {},
     "output_type": "execute_result"
    }
   ],
   "source": [
    "\n",
    "class Bicycle {\n",
    "\n",
    "  var cadence: Int = 0\n",
    "  var speed: Int = 0\n",
    "  var gear: Int = 1;\n",
    "\n",
    "  def changeCadence(newValue: Int): Unit = {\n",
    "    cadence = newValue\n",
    "  }\n",
    "/*\n",
    "  void changeGear(int newValue) {\n",
    "    gear = newValue;\n",
    "  }\n",
    "\n",
    "  void speedUp(int increment) {\n",
    "    speed = speed + increment;   \n",
    "  }\n",
    "\n",
    "  void applyBrakes(int decrement) {\n",
    "    speed = speed - decrement;\n",
    "  }\n",
    "  */\n",
    "  def printStates() {\n",
    "       System.out.println(\"cadence:\" +\n",
    "           cadence + \" speed:\" + \n",
    "           speed + \" gear:\" + gear)\n",
    "  }\n",
    "}\n"
   ]
  },
  {
   "cell_type": "markdown",
   "metadata": {},
   "source": [
    "### Objects and method invocation"
   ]
  },
  {
   "cell_type": "code",
   "execution_count": 15,
   "metadata": {},
   "outputs": [
    {
     "name": "stdout",
     "output_type": "stream",
     "text": [
      "cadence:50 speed:0 gear:1\n"
     ]
    },
    {
     "data": {
      "text/html": [
       "<div class=\"jp-RenderedText\">\n",
       "<pre><code><span style=\"color: rgb(0, 187, 187)\"><span class=\"ansi-cyan-fg\">bike1</span></span>: <span style=\"color: rgb(0, 187, 0)\"><span class=\"ansi-green-fg\">Bicycle</span></span> = ammonite.$sess.cmd11$Helper$Bicycle@1a12ec9\r\n",
       "<span style=\"color: rgb(0, 187, 187)\"><span class=\"ansi-cyan-fg\">bike2</span></span>: <span style=\"color: rgb(0, 187, 0)\"><span class=\"ansi-green-fg\">Bicycle</span></span> = ammonite.$sess.cmd11$Helper$Bicycle@fb3f10</code></pre>\n",
       "</div>"
      ],
      "text/plain": [
       "\u001b[36mbike1\u001b[39m: \u001b[32mBicycle\u001b[39m = ammonite.$sess.cmd11$Helper$Bicycle@1a12ec9\r\n",
       "\u001b[36mbike2\u001b[39m: \u001b[32mBicycle\u001b[39m = ammonite.$sess.cmd11$Helper$Bicycle@fb3f10"
      ]
     },
     "metadata": {},
     "output_type": "display_data"
    }
   ],
   "source": [
    "\n",
    "// Create two different Bicycle objects\n",
    "\n",
    "var bike1: Bicycle = new Bicycle()\n",
    "var bike2 = new Bicycle()\n",
    "\n",
    "// Invoke methods on those objects\n",
    "\n",
    "bike1.changeCadence(50)\n",
    "/*bike1.speedUp(10);\n",
    "bike1.changeGear(2);\n",
    "bike1.printStates();\n",
    "\n",
    "bike2.changeCadence(50);\n",
    "bike2.speedUp(10);\n",
    "bike2.changeGear(2);\n",
    "bike2.changeCadence(40);\n",
    "bike2.speedUp(10);\n",
    "bike2.changeGear(3);\n",
    "*/bike1.printStates();\n"
   ]
  },
  {
   "cell_type": "code",
   "execution_count": 11,
   "metadata": {},
   "outputs": [
    {
     "data": {
      "text/plain": [
       "\u001b[36mres10\u001b[39m: \u001b[32mInt\u001b[39m = \u001b[32m50\u001b[39m"
      ]
     },
     "execution_count": 11,
     "metadata": {},
     "output_type": "execute_result"
    }
   ],
   "source": [
    "bike1.cadence"
   ]
  },
  {
   "cell_type": "code",
   "execution_count": 7,
   "metadata": {},
   "outputs": [
    {
     "data": {
      "text/plain": [
       "\u001b[36mres6\u001b[39m: \u001b[32mInt\u001b[39m = \u001b[32m1\u001b[39m"
      ]
     },
     "execution_count": 7,
     "metadata": {},
     "output_type": "execute_result"
    }
   ],
   "source": [
    "bike1.gear"
   ]
  },
  {
   "cell_type": "markdown",
   "metadata": {},
   "source": [
    "Some syntactic sugar for method invocations:"
   ]
  },
  {
   "cell_type": "code",
   "execution_count": 21,
   "metadata": {},
   "outputs": [
    {
     "data": {
      "text/plain": [
       "\u001b[32mimport \u001b[39m\u001b[36mscala.language.postfixOps\u001b[39m"
      ]
     },
     "execution_count": 21,
     "metadata": {},
     "output_type": "execute_result"
    }
   ],
   "source": [
    "import scala.language.postfixOps"
   ]
  },
  {
   "cell_type": "code",
   "execution_count": 22,
   "metadata": {},
   "outputs": [
    {
     "name": "stdout",
     "output_type": "stream",
     "text": [
      "cadence:40 speed:0 gear:1\n"
     ]
    }
   ],
   "source": [
    "\n",
    "bike1 changeCadence 40\n",
    "/*bike1.speedUp(10)\n",
    "bike1.changeGear(2)*/\n",
    "bike1 printStates\n"
   ]
  },
  {
   "cell_type": "markdown",
   "metadata": {},
   "source": [
    "### Inheritance"
   ]
  },
  {
   "cell_type": "code",
   "execution_count": 23,
   "metadata": {},
   "outputs": [
    {
     "data": {
      "text/plain": [
       "defined \u001b[32mclass\u001b[39m \u001b[36mMountainBike\u001b[39m"
      ]
     },
     "execution_count": 23,
     "metadata": {},
     "output_type": "execute_result"
    }
   ],
   "source": [
    "\n",
    "class MountainBike extends Bicycle {\n",
    "\n",
    "    // new fields and methods defining \n",
    "    // a mountain bike would go here\n",
    "\n",
    "}\n"
   ]
  },
  {
   "cell_type": "markdown",
   "metadata": {},
   "source": [
    "### Interfaces"
   ]
  },
  {
   "cell_type": "code",
   "execution_count": 28,
   "metadata": {},
   "outputs": [
    {
     "data": {
      "text/plain": [
       "defined \u001b[32mtrait\u001b[39m \u001b[36mBicycleAPI\u001b[39m"
      ]
     },
     "execution_count": 28,
     "metadata": {},
     "output_type": "execute_result"
    }
   ],
   "source": [
    "\n",
    "trait BicycleAPI {\n",
    "\n",
    "    //  wheel revolutions per minute\n",
    "    def changeCadence(newValue: Int): Unit\n",
    "    \n",
    "    def foo(i: Int): Boolean\n",
    "/*\n",
    "    void changeGear(int newValue);\n",
    "\n",
    "    void speedUp(int increment);\n",
    "\n",
    "    void applyBrakes(int decrement);\n",
    "*/}\n"
   ]
  },
  {
   "cell_type": "code",
   "execution_count": 34,
   "metadata": {},
   "outputs": [
    {
     "data": {
      "text/plain": [
       "defined \u001b[32mclass\u001b[39m \u001b[36mBicycle\u001b[39m"
      ]
     },
     "execution_count": 34,
     "metadata": {},
     "output_type": "execute_result"
    }
   ],
   "source": [
    "\n",
    "abstract class Bicycle extends BicycleAPI {\n",
    "\n",
    "  var cadence: Int = 0\n",
    "  var speed: Int = 0\n",
    "  var gear: Int = 1;\n",
    "\n",
    "  def changeCadence(newValue: Int): Unit = {\n",
    "    cadence = newValue\n",
    "  }\n",
    "    \n",
    "  //def foo(i: Int): Boolean = true\n",
    "/*\n",
    "  void changeGear(int newValue) {\n",
    "    gear = newValue;\n",
    "  }\n",
    "\n",
    "  void speedUp(int increment) {\n",
    "    speed = speed + increment;   \n",
    "  }\n",
    "\n",
    "  void applyBrakes(int decrement) {\n",
    "    speed = speed - decrement;\n",
    "  }\n",
    "  */\n",
    "  def printStates() {\n",
    "       System.out.println(\"cadence:\" +\n",
    "           cadence + \" speed:\" + \n",
    "           speed + \" gear:\" + gear)\n",
    "  }\n",
    "}\n"
   ]
  },
  {
   "cell_type": "code",
   "execution_count": 36,
   "metadata": {},
   "outputs": [
    {
     "data": {
      "text/plain": [
       "\u001b[36mres35\u001b[39m: \u001b[32mBicycle\u001b[39m = ammonite.$sess.cmd35$Helper$$anon$1@135e1c2"
      ]
     },
     "execution_count": 36,
     "metadata": {},
     "output_type": "execute_result"
    }
   ],
   "source": [
    "new Bicycle{\n",
    "    def foo(i: Int): Boolean = true\n",
    "}"
   ]
  },
  {
   "cell_type": "markdown",
   "metadata": {},
   "source": [
    "# Language basics\n",
    "\n",
    "https://docs.oracle.com/javase/tutorial/java/nutsandbolts/index.html"
   ]
  },
  {
   "cell_type": "markdown",
   "metadata": {},
   "source": [
    "### Control flow statements"
   ]
  },
  {
   "cell_type": "code",
   "execution_count": 39,
   "metadata": {},
   "outputs": [
    {
     "data": {
      "text/plain": [
       "defined \u001b[32mclass\u001b[39m \u001b[36mBicycle\u001b[39m"
      ]
     },
     "execution_count": 39,
     "metadata": {},
     "output_type": "execute_result"
    }
   ],
   "source": [
    "class Bicycle {\n",
    "\n",
    "    var cadence: Int = 0\n",
    "    var speed: Int = 0\n",
    "    var gear: Int = 1\n",
    "\n",
    "    def changeCadence(newValue: Int): Unit = {\n",
    "         cadence = newValue;\n",
    "    }\n",
    "\n",
    "    def changeGear(newValue: Int): Unit = {\n",
    "         gear = newValue;\n",
    "    }\n",
    "\n",
    "    def speedUp(increment: Int): Unit = {\n",
    "         speed = speed + increment;   \n",
    "    }\n",
    "\n",
    "    def applyBrakes(decrement: Int) = {\n",
    "         speed = speed - decrement;\n",
    "    }\n",
    "    \n",
    "    \n",
    "    def applyBrakes(): Unit = {\n",
    "        // the \"if\" clause: bicycle must be moving\n",
    "        if (speed > 0) \n",
    "            // the \"then\" clause: decrease current speed\n",
    "            speed -= 1\n",
    "        else {\n",
    "            System.err.println(\"The bicycle has already stopped!\");\n",
    "        } \n",
    "    }\n",
    "\n",
    "    def printStates(): Unit = {\n",
    "         println(\"cadence:\" +\n",
    "             cadence + \" speed:\" + \n",
    "             speed + \" gear:\" + gear);\n",
    "    }\n",
    "}"
   ]
  },
  {
   "cell_type": "code",
   "execution_count": null,
   "metadata": {},
   "outputs": [],
   "source": [
    "class Bicycle {\n",
    "\n",
    "    var cadence: Int = 0\n",
    "    var speed: Int = 0\n",
    "    var gear: Int = 1\n",
    "\n",
    "    def changeCadence(newValue: Int): Unit = {\n",
    "         cadence = newValue;\n",
    "    }\n",
    "\n",
    "    def changeGear(newValue: Int): Unit = {\n",
    "         gear = newValue;\n",
    "    }\n",
    "\n",
    "    def speedUp(increment: Int): Unit = {\n",
    "         speed = speed + increment;   \n",
    "    }\n",
    "\n",
    "    def applyBrakes(decrement: Int) = {\n",
    "         speed = speed - decrement;\n",
    "    }\n",
    "    \n",
    "    \n",
    "    def isMoving(): Boolean = \n",
    "        speed > 0\n",
    "    \n",
    "    /*\n",
    "    void applyBrakes() {\n",
    "        if (isMoving) {\n",
    "            currentSpeed--;\n",
    "        } else {\n",
    "            System.err.println(\"The bicycle has already stopped!\");\n",
    "        } \n",
    "    }\n",
    "    */\n",
    "\n",
    "    def printStates(): Unit = {\n",
    "         println(\"cadence:\" +\n",
    "             cadence + \" speed:\" + \n",
    "             speed + \" gear:\" + gear);\n",
    "    }\n",
    "}\n"
   ]
  },
  {
   "cell_type": "markdown",
   "metadata": {},
   "source": [
    "### If-Else-If demo"
   ]
  },
  {
   "cell_type": "code",
   "execution_count": 41,
   "metadata": {},
   "outputs": [
    {
     "name": "stdout",
     "output_type": "stream",
     "text": [
      "Grade = C\n"
     ]
    },
    {
     "data": {
      "text/html": [
       "<div class=\"jp-RenderedText\">\n",
       "<pre><code><span style=\"color: rgb(0, 187, 187)\"><span class=\"ansi-cyan-fg\">testscore</span></span>: <span style=\"color: rgb(0, 187, 0)\"><span class=\"ansi-green-fg\">Int</span></span> = <span style=\"color: rgb(0, 187, 0)\"><span class=\"ansi-green-fg\">76</span></span>\r\n",
       "<span style=\"color: rgb(0, 187, 187)\"><span class=\"ansi-cyan-fg\">grade</span></span>: <span style=\"color: rgb(0, 187, 0)\"><span class=\"ansi-green-fg\">Char</span></span> = <span style=\"color: rgb(0, 187, 0)\"><span class=\"ansi-green-fg\">'C'</span></span></code></pre>\n",
       "</div>"
      ],
      "text/plain": [
       "\u001b[36mtestscore\u001b[39m: \u001b[32mInt\u001b[39m = \u001b[32m76\u001b[39m\r\n",
       "\u001b[36mgrade\u001b[39m: \u001b[32mChar\u001b[39m = \u001b[32m'C'\u001b[39m"
      ]
     },
     "metadata": {},
     "output_type": "display_data"
    }
   ],
   "source": [
    "\n",
    "var testscore: Int = 76\n",
    "var grade: Char = ' ';\n",
    "\n",
    "if (testscore >= 90) \n",
    "    grade = 'A'\n",
    " else if (testscore >= 80) {\n",
    "    grade = 'B'\n",
    "} else if (testscore >= 70) {\n",
    "    grade = 'C'\n",
    "} else if (testscore >= 60) {\n",
    "    grade = 'D'\n",
    "} else {\n",
    "    grade = 'F'\n",
    "}\n",
    "System.out.println(\"Grade = \" + grade)\n"
   ]
  },
  {
   "cell_type": "markdown",
   "metadata": {},
   "source": [
    "### while statements"
   ]
  },
  {
   "cell_type": "code",
   "execution_count": 42,
   "metadata": {},
   "outputs": [
    {
     "name": "stdout",
     "output_type": "stream",
     "text": [
      "Count is: 1\n",
      "Count is: 2\n",
      "Count is: 3\n",
      "Count is: 4\n",
      "Count is: 5\n",
      "Count is: 6\n",
      "Count is: 7\n",
      "Count is: 8\n",
      "Count is: 9\n",
      "Count is: 10\n"
     ]
    },
    {
     "data": {
      "text/html": [
       "<div class=\"jp-RenderedText\">\n",
       "<pre><code><span style=\"color: rgb(0, 187, 187)\"><span class=\"ansi-cyan-fg\">count</span></span>: <span style=\"color: rgb(0, 187, 0)\"><span class=\"ansi-green-fg\">Int</span></span> = <span style=\"color: rgb(0, 187, 0)\"><span class=\"ansi-green-fg\">11</span></span></code></pre>\n",
       "</div>"
      ],
      "text/plain": [
       "\u001b[36mcount\u001b[39m: \u001b[32mInt\u001b[39m = \u001b[32m11\u001b[39m"
      ]
     },
     "metadata": {},
     "output_type": "display_data"
    }
   ],
   "source": [
    "\n",
    "var count: Int = 1\n",
    "while (count < 11) {\n",
    "    System.out.println(\"Count is: \" + count)\n",
    "    count += 1\n",
    "}\n"
   ]
  },
  {
   "cell_type": "markdown",
   "metadata": {},
   "source": [
    "### For statement"
   ]
  },
  {
   "cell_type": "code",
   "execution_count": 43,
   "metadata": {},
   "outputs": [
    {
     "name": "stdout",
     "output_type": "stream",
     "text": [
      "Count is: 1\n",
      "Count is: 2\n",
      "Count is: 3\n",
      "Count is: 4\n",
      "Count is: 5\n",
      "Count is: 6\n",
      "Count is: 7\n",
      "Count is: 8\n",
      "Count is: 9\n",
      "Count is: 10\n"
     ]
    }
   ],
   "source": [
    "\n",
    "for (i <- 1 to 10){\n",
    "  System.out.println(\"Count is: \" + i);\n",
    "}\n"
   ]
  },
  {
   "cell_type": "code",
   "execution_count": 44,
   "metadata": {},
   "outputs": [
    {
     "name": "stdout",
     "output_type": "stream",
     "text": [
      "Count is: 1\n",
      "Count is: 2\n",
      "Count is: 3\n",
      "Count is: 4\n",
      "Count is: 5\n",
      "Count is: 6\n",
      "Count is: 7\n",
      "Count is: 8\n",
      "Count is: 9\n",
      "Count is: 10\n"
     ]
    },
    {
     "data": {
      "text/html": [
       "<div class=\"jp-RenderedText\">\n",
       "<pre><code><span style=\"color: rgb(0, 187, 187)\"><span class=\"ansi-cyan-fg\">numbers</span></span>: <span style=\"color: rgb(0, 187, 0)\"><span class=\"ansi-green-fg\">Array</span></span>[<span style=\"color: rgb(0, 187, 0)\"><span class=\"ansi-green-fg\">Int</span></span>] = <span style=\"color: yellow\"><span class=\"ansi-yellow-fg\">Array</span></span>(<span style=\"color: rgb(0, 187, 0)\"><span class=\"ansi-green-fg\">1</span></span>, <span style=\"color: rgb(0, 187, 0)\"><span class=\"ansi-green-fg\">2</span></span>, <span style=\"color: rgb(0, 187, 0)\"><span class=\"ansi-green-fg\">3</span></span>, <span style=\"color: rgb(0, 187, 0)\"><span class=\"ansi-green-fg\">4</span></span>, <span style=\"color: rgb(0, 187, 0)\"><span class=\"ansi-green-fg\">5</span></span>, <span style=\"color: rgb(0, 187, 0)\"><span class=\"ansi-green-fg\">6</span></span>, <span style=\"color: rgb(0, 187, 0)\"><span class=\"ansi-green-fg\">7</span></span>, <span style=\"color: rgb(0, 187, 0)\"><span class=\"ansi-green-fg\">8</span></span>, <span style=\"color: rgb(0, 187, 0)\"><span class=\"ansi-green-fg\">9</span></span>, <span style=\"color: rgb(0, 187, 0)\"><span class=\"ansi-green-fg\">10</span></span>)</code></pre>\n",
       "</div>"
      ],
      "text/plain": [
       "\u001b[36mnumbers\u001b[39m: \u001b[32mArray\u001b[39m[\u001b[32mInt\u001b[39m] = \u001b[33mArray\u001b[39m(\u001b[32m1\u001b[39m, \u001b[32m2\u001b[39m, \u001b[32m3\u001b[39m, \u001b[32m4\u001b[39m, \u001b[32m5\u001b[39m, \u001b[32m6\u001b[39m, \u001b[32m7\u001b[39m, \u001b[32m8\u001b[39m, \u001b[32m9\u001b[39m, \u001b[32m10\u001b[39m)"
      ]
     },
     "metadata": {},
     "output_type": "display_data"
    }
   ],
   "source": [
    "\n",
    "var numbers: Array[Int] = Array(1,2,3,4,5,6,7,8,9,10)\n",
    "\n",
    "for (item <- numbers) {\n",
    "  System.out.println(\"Count is: \" + item)\n",
    "}\n"
   ]
  },
  {
   "cell_type": "code",
   "execution_count": 45,
   "metadata": {},
   "outputs": [
    {
     "data": {
      "text/plain": [
       "\u001b[36mres44\u001b[39m: \u001b[32mRange\u001b[39m.\u001b[32mInclusive\u001b[39m = \u001b[33mRange\u001b[39m(\u001b[32m1\u001b[39m, \u001b[32m2\u001b[39m, \u001b[32m3\u001b[39m, \u001b[32m4\u001b[39m, \u001b[32m5\u001b[39m, \u001b[32m6\u001b[39m, \u001b[32m7\u001b[39m, \u001b[32m8\u001b[39m, \u001b[32m9\u001b[39m, \u001b[32m10\u001b[39m)"
      ]
     },
     "execution_count": 45,
     "metadata": {},
     "output_type": "execute_result"
    }
   ],
   "source": [
    "1 to 10"
   ]
  },
  {
   "cell_type": "markdown",
   "metadata": {},
   "source": [
    "### Exceptions\n",
    "\n",
    "https://docs.oracle.com/javase/tutorial/essential/exceptions/index.html"
   ]
  },
  {
   "cell_type": "code",
   "execution_count": 46,
   "metadata": {},
   "outputs": [
    {
     "data": {
      "text/plain": [
       "\u001b[32mimport \u001b[39m\u001b[36mjava.io._\n",
       "\n",
       "\u001b[39m\r\n",
       "defined \u001b[32mfunction\u001b[39m \u001b[36mwriteList\u001b[39m"
      ]
     },
     "execution_count": 46,
     "metadata": {},
     "output_type": "execute_result"
    }
   ],
   "source": [
    "import java.io._\n",
    "\n",
    "def writeList(list: Array[Int], SIZE: Int, fileName: String): Unit = {\n",
    "    var out: PrintWriter = null;\n",
    "\n",
    "    try {\n",
    "        System.out.println(\"Entering\" + \" try statement\");\n",
    "\n",
    "        out = new PrintWriter(new FileWriter(fileName));\n",
    "        for (i <- 0 to SIZE-1) {\n",
    "            out.println(\"Value at: \" + i + \" = \" + list(i));\n",
    "        }\n",
    "    } catch {\n",
    "        case e: IndexOutOfBoundsException => \n",
    "            System.err.println(\"Caught IndexOutOfBoundsException: \"\n",
    "                           +  e.getMessage());\n",
    "                                 \n",
    "        case e: IOException => \n",
    "            System.err.println(\"Caught IOException: \" +  e.getMessage());\n",
    "                                 \n",
    "    } finally {\n",
    "        if (out != null) {\n",
    "            System.out.println(\"Closing PrintWriter\");\n",
    "            out.close();\n",
    "        } \n",
    "        else {\n",
    "            System.out.println(\"PrintWriter not open\");\n",
    "        }\n",
    "    }\n",
    "}"
   ]
  },
  {
   "cell_type": "code",
   "execution_count": 50,
   "metadata": {},
   "outputs": [
    {
     "name": "stdout",
     "output_type": "stream",
     "text": [
      "Entering try statement\n"
     ]
    },
    {
     "name": "stderr",
     "output_type": "stream",
     "text": [
      "Caught IOException: tmp\\out.txt (El sistema no puede encontrar la ruta especificada)\n"
     ]
    },
    {
     "name": "stdout",
     "output_type": "stream",
     "text": [
      "PrintWriter not open\n"
     ]
    }
   ],
   "source": [
    "writeList(Array(1,2,3,4),4,\"tmp/out.txt\")"
   ]
  },
  {
   "cell_type": "markdown",
   "metadata": {},
   "source": [
    "# Classes and objects\n",
    "\n",
    "https://docs.oracle.com/javase/tutorial/java/javaOO/index.html"
   ]
  },
  {
   "cell_type": "markdown",
   "metadata": {},
   "source": [
    "### Constructors"
   ]
  },
  {
   "cell_type": "code",
   "execution_count": 61,
   "metadata": {},
   "outputs": [
    {
     "data": {
      "text/plain": [
       "defined \u001b[32mclass\u001b[39m \u001b[36mBicycle\u001b[39m"
      ]
     },
     "execution_count": 61,
     "metadata": {},
     "output_type": "execute_result"
    }
   ],
   "source": [
    "class Bicycle(\n",
    "    var cadence: Int, \n",
    "    var speed: Int\n",
    ") {\n",
    "    println(\"constructing bike\")\n",
    "    \n",
    "    var gear: Int = 0\n",
    "    /*\n",
    "    public Bicycle(int startCadence, int startSpeed, int startGear) {\n",
    "        gear = startGear;\n",
    "        cadence = startCadence;\n",
    "        speed = startSpeed;\n",
    "    }\n",
    "    \n",
    "    public Bicycle(){\n",
    "        gear = 1;\n",
    "        cadence = 10;\n",
    "        speed = 0;\n",
    "    }\n",
    "    */\n",
    "    \n",
    "    def this(){ \n",
    "        this(1,10) \n",
    "    }\n",
    "\n",
    "    def changeCadence(newValue: Int): Unit = {\n",
    "         cadence = newValue;\n",
    "    }\n",
    "\n",
    "    def changeGear(newValue: Int): Unit = {\n",
    "         gear = newValue;\n",
    "    }\n",
    "\n",
    "    def speedUp(increment: Int): Unit = {\n",
    "         speed = speed + increment;   \n",
    "    }\n",
    "\n",
    "    def applyBrakes(decrement: Int) = {\n",
    "         speed = speed - decrement;\n",
    "    }\n",
    "\n",
    "    def printStates(): Unit = {\n",
    "         println(\"cadence:\" +\n",
    "             cadence + \" speed:\" + \n",
    "             speed + \" gear:\" + gear);\n",
    "    }\n",
    "}"
   ]
  },
  {
   "cell_type": "code",
   "execution_count": 60,
   "metadata": {},
   "outputs": [
    {
     "name": "stdout",
     "output_type": "stream",
     "text": [
      "constructing bike\n"
     ]
    },
    {
     "data": {
      "text/plain": [
       "\u001b[36mres59\u001b[39m: \u001b[32mBicycle\u001b[39m = ammonite.$sess.cmd58$Helper$Bicycle@1e09ca3"
      ]
     },
     "execution_count": 60,
     "metadata": {},
     "output_type": "execute_result"
    }
   ],
   "source": [
    "new Bicycle(1,1) // ,10)"
   ]
  },
  {
   "cell_type": "code",
   "execution_count": 63,
   "metadata": {},
   "outputs": [
    {
     "name": "stdout",
     "output_type": "stream",
     "text": [
      "constructing bike\n"
     ]
    },
    {
     "data": {
      "text/plain": [
       "\u001b[36mres62\u001b[39m: \u001b[32mInt\u001b[39m = \u001b[32m1\u001b[39m"
      ]
     },
     "execution_count": 63,
     "metadata": {},
     "output_type": "execute_result"
    }
   ],
   "source": [
    "new Bicycle().cadence"
   ]
  },
  {
   "cell_type": "code",
   "execution_count": 58,
   "metadata": {},
   "outputs": [
    {
     "data": {
      "text/plain": [
       "\u001b[36mres57\u001b[39m: \u001b[32mInt\u001b[39m = \u001b[32m10\u001b[39m"
      ]
     },
     "execution_count": 58,
     "metadata": {},
     "output_type": "execute_result"
    }
   ],
   "source": [
    "res56.gear"
   ]
  },
  {
   "cell_type": "markdown",
   "metadata": {},
   "source": [
    "### Super-constructors"
   ]
  },
  {
   "cell_type": "code",
   "execution_count": null,
   "metadata": {},
   "outputs": [],
   "source": [
    "/*\n",
    "public class MountainBike extends Bicycle {\n",
    "        \n",
    "    // the MountainBike subclass has one field\n",
    "    public int seatHeight;\n",
    "\n",
    "    // the MountainBike subclass has one constructor\n",
    "    public MountainBike(int startHeight, int startCadence,\n",
    "                        int startSpeed, int startGear) {\n",
    "        super(startCadence, startSpeed, startGear);\n",
    "        seatHeight = startHeight;\n",
    "    }   \n",
    "        \n",
    "    // the MountainBike subclass has one method\n",
    "    public void setHeight(int newValue) {\n",
    "        seatHeight = newValue;\n",
    "    }   \n",
    "\n",
    "}\n",
    "*/"
   ]
  },
  {
   "cell_type": "markdown",
   "metadata": {},
   "source": [
    "### Extends + Implements"
   ]
  },
  {
   "cell_type": "code",
   "execution_count": null,
   "metadata": {},
   "outputs": [],
   "source": [
    "/*\n",
    "class MyClass extends MySuperClass implements YourInterface {\n",
    "    // field, constructor, and method declarations\n",
    "}\n",
    "*/"
   ]
  },
  {
   "cell_type": "code",
   "execution_count": null,
   "metadata": {},
   "outputs": [],
   "source": [
    "/*class MountainBike(\n",
    "    var seatHeight: Int, \n",
    "    cadence: Int, \n",
    "    speed: Int,\n",
    "    gear: Int) \n",
    "extends Bicycle(cadence, speed, gear) {\n",
    "        \n",
    "    // the MountainBike subclass has one method\n",
    "    def setHeight(newValue: Int) {\n",
    "        seatHeight = newValue;\n",
    "    }   \n",
    "\n",
    "}*/"
   ]
  },
  {
   "cell_type": "markdown",
   "metadata": {},
   "source": [
    "### Private members"
   ]
  },
  {
   "cell_type": "code",
   "execution_count": null,
   "metadata": {},
   "outputs": [],
   "source": [
    "/*\n",
    "public class Bicycle {\n",
    "        \n",
    "    private int cadence;\n",
    "    private int gear;\n",
    "    private int speed;\n",
    "        \n",
    "    public Bicycle(int startCadence, int startSpeed, int startGear) {\n",
    "        gear = startGear;\n",
    "        cadence = startCadence;\n",
    "        speed = startSpeed;\n",
    "    }\n",
    "        \n",
    "    public int getCadence() {\n",
    "        return cadence;\n",
    "    }\n",
    "        \n",
    "    public void setCadence(int newValue) {\n",
    "        cadence = newValue;\n",
    "    }\n",
    "        \n",
    "    public int getGear() {\n",
    "        return gear;\n",
    "    }\n",
    "        \n",
    "    public void setGear(int newValue) {\n",
    "        gear = newValue;\n",
    "    }\n",
    "        \n",
    "    public int getSpeed() {\n",
    "        return speed;\n",
    "    }\n",
    "        \n",
    "    public void applyBrake(int decrement) {\n",
    "        speed -= decrement;\n",
    "    }\n",
    "        \n",
    "    public void speedUp(int increment) {\n",
    "        speed += increment;\n",
    "    }\n",
    "}\n",
    "*/"
   ]
  },
  {
   "cell_type": "code",
   "execution_count": null,
   "metadata": {},
   "outputs": [],
   "source": [
    "class Bicycle(\n",
    "    var cadence: Int, \n",
    "    var speed: Int, \n",
    "    var gear: Int) {\n",
    "\n",
    "    def this() = \n",
    "        this(0, 0, 1)\n",
    "    \n",
    "    def getCadence(): Int = \n",
    "        cadence\n",
    "    \n",
    "    def changeCadence(newValue: Int): Unit = {\n",
    "         cadence = newValue;\n",
    "    }\n",
    "\n",
    "    def changeGear(newValue: Int): Unit = {\n",
    "         gear = newValue;\n",
    "    }\n",
    "\n",
    "    def speedUp(increment: Int): Unit = {\n",
    "         speed = speed + increment;   \n",
    "    }\n",
    "\n",
    "    def applyBrakes(decrement: Int) = {\n",
    "         speed = speed - decrement;\n",
    "    }\n",
    "\n",
    "    def printStates(): Unit = {\n",
    "         println(\"cadence:\" +\n",
    "             cadence + \" speed:\" + \n",
    "             speed + \" gear:\" + gear);\n",
    "    }\n",
    "}"
   ]
  },
  {
   "cell_type": "markdown",
   "metadata": {},
   "source": [
    "### Static members"
   ]
  },
  {
   "cell_type": "code",
   "execution_count": null,
   "metadata": {},
   "outputs": [],
   "source": [
    "class Bicycle(\n",
    "    private var cadence: Int, \n",
    "    private var speed: Int, \n",
    "    private var gear: Int) {\n",
    "\n",
    "    def this() = \n",
    "        this(0, 0, 1)\n",
    "    \n",
    "    /*\n",
    "    public static int numberOfBicycles = 0\n",
    "    \n",
    "    public Bicycle(int startCadence,\n",
    "                   int startSpeed,\n",
    "                   int startGear) {\n",
    "        gear = startGear;\n",
    "        cadence = startCadence;\n",
    "        speed = startSpeed;\n",
    "\n",
    "        ++numberOfBicycles;\n",
    "    }\n",
    "    */\n",
    "    \n",
    "    def getCadence(): Int = \n",
    "        cadence\n",
    "    \n",
    "    def changeCadence(newValue: Int): Unit = {\n",
    "         cadence = newValue;\n",
    "    }\n",
    "\n",
    "    def changeGear(newValue: Int): Unit = {\n",
    "         gear = newValue;\n",
    "    }\n",
    "\n",
    "    def speedUp(increment: Int): Unit = {\n",
    "         speed = speed + increment;   \n",
    "    }\n",
    "\n",
    "    def applyBrakes(decrement: Int) = {\n",
    "         speed = speed - decrement;\n",
    "    }\n",
    "\n",
    "    def printStates(): Unit = {\n",
    "         println(\"cadence:\" +\n",
    "             cadence + \" speed:\" + \n",
    "             speed + \" gear:\" + gear);\n",
    "    }\n",
    "}\n",
    "\n",
    "// Companion object\n",
    "\n",
    "object Bicycle{\n",
    "}"
   ]
  },
  {
   "cell_type": "code",
   "execution_count": null,
   "metadata": {},
   "outputs": [],
   "source": [
    "// ClassName.methodName(args)\n",
    "\n"
   ]
  },
  {
   "cell_type": "markdown",
   "metadata": {},
   "source": [
    "### Inmutable objects\n",
    "https://docs.oracle.com/javase/tutorial/essential/concurrency/immutable.html"
   ]
  },
  {
   "cell_type": "code",
   "execution_count": null,
   "metadata": {},
   "outputs": [],
   "source": [
    "// vars vs. vals\n",
    "var i: Int = 0\n",
    "val j: Int = 0"
   ]
  },
  {
   "cell_type": "code",
   "execution_count": null,
   "metadata": {},
   "outputs": [],
   "source": [
    "// We can mutate `i`\n",
    "i = 1\n",
    "// But `j` is immutable\n",
    "// j = 1"
   ]
  },
  {
   "cell_type": "code",
   "execution_count": null,
   "metadata": {},
   "outputs": [],
   "source": [
    "// Note that immutable variables may refer to mutable objects\n",
    "val a1: Array[Int] = Array(1,2,3)\n",
    "a1(1) = 4\n"
   ]
  },
  {
   "cell_type": "markdown",
   "metadata": {},
   "source": [
    "Immutable objects in Java:"
   ]
  },
  {
   "cell_type": "code",
   "execution_count": null,
   "metadata": {},
   "outputs": [],
   "source": [
    "/*\n",
    "final public class ImmutableRGB {\n",
    "\n",
    "    // Values must be between 0 and 255.\n",
    "    final private int red;\n",
    "    final private int green;\n",
    "    final private int blue;\n",
    "    final private String name;\n",
    "\n",
    "    private void check(int red,\n",
    "                       int green,\n",
    "                       int blue) {\n",
    "        if (red < 0 || red > 255\n",
    "            || green < 0 || green > 255\n",
    "            || blue < 0 || blue > 255) {\n",
    "            throw new IllegalArgumentException();\n",
    "        }\n",
    "    }\n",
    "\n",
    "    public ImmutableRGB(int red,\n",
    "                        int green,\n",
    "                        int blue,\n",
    "                        String name) {\n",
    "        check(red, green, blue);\n",
    "        this.red = red;\n",
    "        this.green = green;\n",
    "        this.blue = blue;\n",
    "        this.name = name;\n",
    "    }\n",
    "\n",
    "\n",
    "    public int getRGB() {\n",
    "        return ((red << 16) | (green << 8) | blue);\n",
    "    }\n",
    "\n",
    "    public String getName() {\n",
    "        return name;\n",
    "    }\n",
    "\n",
    "    public ImmutableRGB invert() {\n",
    "        return new ImmutableRGB(255 - red,\n",
    "                       255 - green,\n",
    "                       255 - blue,\n",
    "                       \"Inverse of \" + name);\n",
    "    }\n",
    "}\n",
    "*/"
   ]
  },
  {
   "cell_type": "markdown",
   "metadata": {},
   "source": [
    "Immutable objects in Scala:"
   ]
  },
  {
   "cell_type": "code",
   "execution_count": null,
   "metadata": {},
   "outputs": [],
   "source": [
    "// color1.red = 5"
   ]
  },
  {
   "cell_type": "markdown",
   "metadata": {},
   "source": [
    "# Interfaces and inheritance\n",
    "\n",
    "https://docs.oracle.com/javase/tutorial/java/IandI/index.html"
   ]
  },
  {
   "cell_type": "markdown",
   "metadata": {},
   "source": [
    "### Extends + Implements"
   ]
  },
  {
   "cell_type": "code",
   "execution_count": null,
   "metadata": {},
   "outputs": [],
   "source": [
    "/*\n",
    "class MyClass extends MySuperClass implements YourInterface {\n",
    "    // field, constructor, and method declarations\n",
    "}\n",
    "*/"
   ]
  },
  {
   "cell_type": "code",
   "execution_count": null,
   "metadata": {},
   "outputs": [],
   "source": [
    "/*class MountainBike(\n",
    "    var seatHeight: Int, \n",
    "    cadence: Int, \n",
    "    speed: Int,\n",
    "    gear: Int) \n",
    "extends Bicycle(cadence, speed, gear) {\n",
    "        \n",
    "    // the MountainBike subclass has one method\n",
    "    def setHeight(newValue: Int) {\n",
    "        seatHeight = newValue;\n",
    "    }   \n",
    "\n",
    "}*/"
   ]
  },
  {
   "cell_type": "markdown",
   "metadata": {},
   "source": [
    "### Default and static interface methods"
   ]
  },
  {
   "cell_type": "code",
   "execution_count": null,
   "metadata": {},
   "outputs": [],
   "source": [
    "/*\n",
    "import java.time.*;\n",
    "\n",
    "public interface TimeClient {\n",
    "    void setTime(int hour, int minute, int second);\n",
    "    void setDate(int day, int month, int year);\n",
    "    void setDateAndTime(int day, int month, int year,\n",
    "                               int hour, int minute, int second);\n",
    "    LocalDateTime getLocalDateTime();\n",
    "    \n",
    "    static ZoneId getZoneId (String zoneString) {\n",
    "        try {\n",
    "            return ZoneId.of(zoneString);\n",
    "        } catch (DateTimeException e) {\n",
    "            System.err.println(\"Invalid time zone: \" + zoneString +\n",
    "                \"; using default time zone instead.\");\n",
    "            return ZoneId.systemDefault();\n",
    "        }\n",
    "    }\n",
    "        \n",
    "    default ZonedDateTime getZonedDateTime(String zoneString) {\n",
    "        return ZonedDateTime.of(getLocalDateTime(), getZoneId(zoneString));\n",
    "    }\n",
    "}\n",
    "*/"
   ]
  },
  {
   "cell_type": "markdown",
   "metadata": {},
   "source": [
    "### Inheritance Hierarchy\n",
    "\n",
    "In Java: \n",
    "![Java Inheritance Hierarchy](https://docs.oracle.com/javase/tutorial/figures/java/classes-object.gif)"
   ]
  },
  {
   "cell_type": "markdown",
   "metadata": {},
   "source": [
    "In Scala: \n",
    "![](https://docs.scala-lang.org/resources/images/tour/unified-types-diagram.svg)"
   ]
  },
  {
   "cell_type": "markdown",
   "metadata": {},
   "source": [
    "https://www.scala-lang.org/api/2.12.10/scala/Any.html"
   ]
  },
  {
   "cell_type": "code",
   "execution_count": null,
   "metadata": {},
   "outputs": [],
   "source": []
  },
  {
   "cell_type": "markdown",
   "metadata": {},
   "source": [
    "# Generics\n",
    "\n",
    "https://docs.oracle.com/javase/tutorial/java/generics/index.html"
   ]
  },
  {
   "cell_type": "markdown",
   "metadata": {},
   "source": [
    "### Generic classes"
   ]
  },
  {
   "cell_type": "code",
   "execution_count": null,
   "metadata": {},
   "outputs": [],
   "source": [
    "import scala.collection.mutable.ListBuffer\n",
    "\n",
    "/*\n",
    "List<String> list = new ArrayList<String>();\n",
    "list.add(\"hello\");\n",
    "String s = list.get(0);   \n",
    "*/"
   ]
  },
  {
   "cell_type": "code",
   "execution_count": null,
   "metadata": {},
   "outputs": [],
   "source": [
    "// Type inference!"
   ]
  },
  {
   "cell_type": "markdown",
   "metadata": {},
   "source": [
    "### Generic methods"
   ]
  },
  {
   "cell_type": "code",
   "execution_count": null,
   "metadata": {},
   "outputs": [],
   "source": [
    "/*\n",
    "public class Pair<K, V> {\n",
    "\n",
    "    private K key;\n",
    "    private V value;\n",
    "\n",
    "    public Pair(K key, V value) {\n",
    "        this.key = key;\n",
    "        this.value = value;\n",
    "    }\n",
    "\n",
    "    public void setKey(K key) { this.key = key; }\n",
    "    public void setValue(V value) { this.value = value; }\n",
    "    public K getKey()   { return key; }\n",
    "    public V getValue() { return value; }\n",
    "}\n",
    "\n",
    "public class Util {\n",
    "    public static <K, V> boolean compare(Pair<K, V> p1, Pair<K, V> p2) {\n",
    "        return p1.getKey().equals(p2.getKey()) &&\n",
    "               p1.getValue().equals(p2.getValue());\n",
    "    }\n",
    "}\n",
    "*/"
   ]
  },
  {
   "cell_type": "code",
   "execution_count": null,
   "metadata": {},
   "outputs": [],
   "source": []
  },
  {
   "cell_type": "code",
   "execution_count": null,
   "metadata": {},
   "outputs": [],
   "source": [
    "// With type inference\n"
   ]
  },
  {
   "cell_type": "markdown",
   "metadata": {},
   "source": [
    "### Bounded type parameters"
   ]
  },
  {
   "cell_type": "markdown",
   "metadata": {},
   "source": [
    "[java.lang.Comparable](https://docs.oracle.com/javase/8/docs/api/java/lang/Comparable.html)"
   ]
  },
  {
   "cell_type": "code",
   "execution_count": null,
   "metadata": {},
   "outputs": [],
   "source": [
    "/*\n",
    "public interface Comparable<T> {\n",
    "    public int compareTo(T o);\n",
    "}\n",
    "\n",
    "public static <T extends Comparable<T>> int countGreaterThan(T[] anArray, T elem) {\n",
    "    int count = 0;\n",
    "    for (T e : anArray)\n",
    "        if (e.compareTo(elem) > 0)\n",
    "            ++count;\n",
    "    return count;\n",
    "}\n",
    "*/"
   ]
  },
  {
   "cell_type": "markdown",
   "metadata": {},
   "source": [
    "Also for classes:"
   ]
  },
  {
   "cell_type": "code",
   "execution_count": null,
   "metadata": {},
   "outputs": [],
   "source": [
    "/*\n",
    "public class NaturalNumber<T extends Integer> {\n",
    "\n",
    "    private T n;\n",
    "\n",
    "    public NaturalNumber(T n)  { this.n = n; }\n",
    "\n",
    "    public boolean isEven() {\n",
    "        return n.intValue() % 2 == 0;\n",
    "    }\n",
    "\n",
    "    // ...\n",
    "}\n",
    "*/"
   ]
  },
  {
   "cell_type": "markdown",
   "metadata": {},
   "source": [
    "### Variance (Scala)\n",
    "\n",
    "https://docs.scala-lang.org/tour/variances.html"
   ]
  },
  {
   "cell_type": "markdown",
   "metadata": {},
   "source": [
    "A class hierarchy:"
   ]
  },
  {
   "cell_type": "code",
   "execution_count": null,
   "metadata": {},
   "outputs": [],
   "source": [
    "abstract class Animal\n",
    "class Perro extends Animal\n",
    "class Doberman extends Perro\n",
    "class Gato extends Animal"
   ]
  },
  {
   "cell_type": "markdown",
   "metadata": {},
   "source": [
    "Some instances:"
   ]
  },
  {
   "cell_type": "code",
   "execution_count": null,
   "metadata": {},
   "outputs": [],
   "source": [
    "val logan: Perro = new Perro\n",
    "val leo: Perro = new Perro\n",
    "val misifu: Gato = new Gato"
   ]
  },
  {
   "cell_type": "markdown",
   "metadata": {},
   "source": [
    "Some examples with Arrays (invariant in T): \n",
    "\n",
    "/*\n",
    "class Array[T]{ ... }\n",
    "*/"
   ]
  },
  {
   "cell_type": "code",
   "execution_count": null,
   "metadata": {},
   "outputs": [],
   "source": [
    "// will this compile?\n"
   ]
  },
  {
   "cell_type": "markdown",
   "metadata": {},
   "source": [
    "This compiles, how can it be?"
   ]
  },
  {
   "cell_type": "code",
   "execution_count": null,
   "metadata": {},
   "outputs": [],
   "source": []
  },
  {
   "cell_type": "markdown",
   "metadata": {},
   "source": [
    "Check out the signature of [:+](https://www.scala-lang.org/api/2.11.12/#scala.Array)"
   ]
  },
  {
   "cell_type": "markdown",
   "metadata": {},
   "source": [
    "Some examples with [List](https://www.scala-lang.org/api/2.11.12/#scala.collection.immutable.List) (covariant in T)\n",
    "\n",
    "/* class List[+T] { ... } */"
   ]
  },
  {
   "cell_type": "code",
   "execution_count": null,
   "metadata": {},
   "outputs": [],
   "source": [
    "// Similarly to arrays, adding new elements may change the type of the list\n",
    "// Signature is like: def +:[B >: T](elem: B)(...): List[B]\n"
   ]
  }
 ],
 "metadata": {
  "kernelspec": {
   "display_name": "Scala",
   "language": "scala",
   "name": "scala"
  },
  "language_info": {
   "codemirror_mode": "text/x-scala",
   "file_extension": ".sc",
   "mimetype": "text/x-scala",
   "name": "scala",
   "nbconvert_exporter": "script",
   "version": "2.13.3"
  }
 },
 "nbformat": 4,
 "nbformat_minor": 2
}
